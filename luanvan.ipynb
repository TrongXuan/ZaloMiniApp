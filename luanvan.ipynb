{
 "cells": [
  {
   "cell_type": "code",
   "execution_count": 3,
   "metadata": {},
   "outputs": [
    {
     "name": "stdout",
     "output_type": "stream",
     "text": [
      "Defaulting to user installation because normal site-packages is not writeable\n",
      "Collecting flask_cors\n",
      "  Using cached Flask_Cors-5.0.0-py2.py3-none-any.whl.metadata (5.5 kB)\n",
      "Requirement already satisfied: Flask>=0.9 in c:\\users\\xuant\\appdata\\roaming\\python\\python310\\site-packages (from flask_cors) (3.0.3)\n",
      "Requirement already satisfied: Werkzeug>=3.0.0 in c:\\users\\xuant\\appdata\\roaming\\python\\python310\\site-packages (from Flask>=0.9->flask_cors) (3.0.4)\n",
      "Requirement already satisfied: Jinja2>=3.1.2 in c:\\users\\xuant\\appdata\\roaming\\python\\python310\\site-packages (from Flask>=0.9->flask_cors) (3.1.4)\n",
      "Requirement already satisfied: itsdangerous>=2.1.2 in c:\\users\\xuant\\appdata\\roaming\\python\\python310\\site-packages (from Flask>=0.9->flask_cors) (2.2.0)\n",
      "Requirement already satisfied: click>=8.1.3 in c:\\users\\xuant\\appdata\\roaming\\python\\python310\\site-packages (from Flask>=0.9->flask_cors) (8.1.7)\n",
      "Requirement already satisfied: blinker>=1.6.2 in c:\\users\\xuant\\appdata\\roaming\\python\\python310\\site-packages (from Flask>=0.9->flask_cors) (1.8.2)\n",
      "Requirement already satisfied: colorama in c:\\users\\xuant\\appdata\\roaming\\python\\python310\\site-packages (from click>=8.1.3->Flask>=0.9->flask_cors) (0.4.6)\n",
      "Requirement already satisfied: MarkupSafe>=2.0 in c:\\users\\xuant\\appdata\\roaming\\python\\python310\\site-packages (from Jinja2>=3.1.2->Flask>=0.9->flask_cors) (3.0.1)\n",
      "Using cached Flask_Cors-5.0.0-py2.py3-none-any.whl (14 kB)\n",
      "Installing collected packages: flask_cors\n",
      "Successfully installed flask_cors-5.0.0\n"
     ]
    }
   ],
   "source": [
    "!pip install flask_cors"
   ]
  },
  {
   "cell_type": "code",
   "execution_count": 5,
   "metadata": {
    "id": "OShDEQhI25Ve"
   },
   "outputs": [],
   "source": [
    "import pandas as pd\n",
    "import numpy as np\n",
    "import keras\n",
    "import joblib\n",
    "%matplotlib inline\n",
    "\n",
    "from sklearn.model_selection import train_test_split\n",
    "from sklearn.preprocessing import StandardScaler\n",
    "from sklearn.preprocessing import MinMaxScaler\n",
    "from keras.models import Sequential\n",
    "from keras.layers import Dense\n",
    "from flask_cors import CORS\n",
    "\n",
    "from tensorflow.keras.models import Sequential"
   ]
  },
  {
   "cell_type": "code",
   "execution_count": 6,
   "metadata": {},
   "outputs": [
    {
     "data": {
      "text/html": [
       "<div>\n",
       "<style scoped>\n",
       "    .dataframe tbody tr th:only-of-type {\n",
       "        vertical-align: middle;\n",
       "    }\n",
       "\n",
       "    .dataframe tbody tr th {\n",
       "        vertical-align: top;\n",
       "    }\n",
       "\n",
       "    .dataframe thead th {\n",
       "        text-align: right;\n",
       "    }\n",
       "</style>\n",
       "<table border=\"1\" class=\"dataframe\">\n",
       "  <thead>\n",
       "    <tr style=\"text-align: right;\">\n",
       "      <th></th>\n",
       "      <th>ID</th>\n",
       "      <th>Title</th>\n",
       "      <th>Address</th>\n",
       "      <th>Area_m2</th>\n",
       "      <th>Number_of_Bedrooms</th>\n",
       "      <th>Number_of_Bathrooms</th>\n",
       "      <th>Date_Posted</th>\n",
       "      <th>Price</th>\n",
       "    </tr>\n",
       "  </thead>\n",
       "  <tbody>\n",
       "    <tr>\n",
       "      <th>0</th>\n",
       "      <td>1</td>\n",
       "      <td>Biệt thự Vạn Xuân- Đà Lạt 290m2 full xây dựng ...</td>\n",
       "      <td>Huyện Lạc Dương, Lâm Đồng</td>\n",
       "      <td>290</td>\n",
       "      <td>5</td>\n",
       "      <td>5</td>\n",
       "      <td>2024-10-23</td>\n",
       "      <td>11000000000</td>\n",
       "    </tr>\n",
       "    <tr>\n",
       "      <th>1</th>\n",
       "      <td>2</td>\n",
       "      <td>| 13,5 TỶ | Bán Villa Yersin - Phường 10 - Đà ...</td>\n",
       "      <td>TP. Đà Lạt, Lâm Đồng</td>\n",
       "      <td>110</td>\n",
       "      <td>4</td>\n",
       "      <td>4</td>\n",
       "      <td>2024-09-23</td>\n",
       "      <td>13500000000</td>\n",
       "    </tr>\n",
       "    <tr>\n",
       "      <th>2</th>\n",
       "      <td>3</td>\n",
       "      <td>Villa Sân Vườn Khu Sang trọng Đường Cô Giang P...</td>\n",
       "      <td>TP. Đà Lạt, Lâm Đồng</td>\n",
       "      <td>200</td>\n",
       "      <td>3</td>\n",
       "      <td>3</td>\n",
       "      <td>2024-09-23</td>\n",
       "      <td>14000000000</td>\n",
       "    </tr>\n",
       "    <tr>\n",
       "      <th>3</th>\n",
       "      <td>4</td>\n",
       "      <td>Cán bán căn Villa như hình gần khu du lịch Hồ ...</td>\n",
       "      <td>TP. Đà Lạt, Lâm Đồng</td>\n",
       "      <td>157</td>\n",
       "      <td>3</td>\n",
       "      <td>3</td>\n",
       "      <td>2024-09-19</td>\n",
       "      <td>8700000000</td>\n",
       "    </tr>\n",
       "    <tr>\n",
       "      <th>4</th>\n",
       "      <td>5</td>\n",
       "      <td>Cần bán khách sạn 2 mặt tiền - Ngay trung tâm ...</td>\n",
       "      <td>TP. Đà Lạt, Lâm Đồng</td>\n",
       "      <td>127</td>\n",
       "      <td>12</td>\n",
       "      <td>12</td>\n",
       "      <td>2024-09-18</td>\n",
       "      <td>19500000000</td>\n",
       "    </tr>\n",
       "    <tr>\n",
       "      <th>...</th>\n",
       "      <td>...</td>\n",
       "      <td>...</td>\n",
       "      <td>...</td>\n",
       "      <td>...</td>\n",
       "      <td>...</td>\n",
       "      <td>...</td>\n",
       "      <td>...</td>\n",
       "      <td>...</td>\n",
       "    </tr>\n",
       "    <tr>\n",
       "      <th>730</th>\n",
       "      <td>731</td>\n",
       "      <td>Cần bán nhà góc 2 mặt tiền hẻm oto NGÔ THÌ SỸ ...</td>\n",
       "      <td>TP. Đà Lạt, Lâm Đồng</td>\n",
       "      <td>42</td>\n",
       "      <td>4</td>\n",
       "      <td>3</td>\n",
       "      <td>2024-09-10</td>\n",
       "      <td>2450000000</td>\n",
       "    </tr>\n",
       "    <tr>\n",
       "      <th>731</th>\n",
       "      <td>732</td>\n",
       "      <td>🎯🎯Bán homestay Hẻm 27 Lê Hồng Phong, Phường 4,...</td>\n",
       "      <td>TP. Đà Lạt, Lâm Đồng</td>\n",
       "      <td>120</td>\n",
       "      <td>1</td>\n",
       "      <td>1</td>\n",
       "      <td>2024-09-10</td>\n",
       "      <td>6800000000</td>\n",
       "    </tr>\n",
       "    <tr>\n",
       "      <th>732</th>\n",
       "      <td>733</td>\n",
       "      <td>Bán căn nhà đẹp Phường 9, Đà Lạt</td>\n",
       "      <td>TP. Đà Lạt, Lâm Đồng</td>\n",
       "      <td>78</td>\n",
       "      <td>3</td>\n",
       "      <td>2</td>\n",
       "      <td>2024-09-10</td>\n",
       "      <td>3200000000</td>\n",
       "    </tr>\n",
       "    <tr>\n",
       "      <th>733</th>\n",
       "      <td>734</td>\n",
       "      <td>Bán Nhà Nam Hồ, P11, Đà Lạt  - giá siêu tốt tr...</td>\n",
       "      <td>TP. Đà Lạt, Lâm Đồng</td>\n",
       "      <td>62</td>\n",
       "      <td>5</td>\n",
       "      <td>6</td>\n",
       "      <td>2024-09-10</td>\n",
       "      <td>4600000000</td>\n",
       "    </tr>\n",
       "    <tr>\n",
       "      <th>734</th>\n",
       "      <td>735</td>\n",
       "      <td>Ngộp ngân hàng - Hạ giá cần bán gấp biệt thự p12</td>\n",
       "      <td>TP. Đà Lạt, Lâm Đồng</td>\n",
       "      <td>200</td>\n",
       "      <td>6</td>\n",
       "      <td>3</td>\n",
       "      <td>2024-09-10</td>\n",
       "      <td>8100000000</td>\n",
       "    </tr>\n",
       "  </tbody>\n",
       "</table>\n",
       "<p>735 rows × 8 columns</p>\n",
       "</div>"
      ],
      "text/plain": [
       "      ID                                              Title  \\\n",
       "0      1  Biệt thự Vạn Xuân- Đà Lạt 290m2 full xây dựng ...   \n",
       "1      2  | 13,5 TỶ | Bán Villa Yersin - Phường 10 - Đà ...   \n",
       "2      3  Villa Sân Vườn Khu Sang trọng Đường Cô Giang P...   \n",
       "3      4  Cán bán căn Villa như hình gần khu du lịch Hồ ...   \n",
       "4      5  Cần bán khách sạn 2 mặt tiền - Ngay trung tâm ...   \n",
       "..   ...                                                ...   \n",
       "730  731  Cần bán nhà góc 2 mặt tiền hẻm oto NGÔ THÌ SỸ ...   \n",
       "731  732  🎯🎯Bán homestay Hẻm 27 Lê Hồng Phong, Phường 4,...   \n",
       "732  733                   Bán căn nhà đẹp Phường 9, Đà Lạt   \n",
       "733  734  Bán Nhà Nam Hồ, P11, Đà Lạt  - giá siêu tốt tr...   \n",
       "734  735   Ngộp ngân hàng - Hạ giá cần bán gấp biệt thự p12   \n",
       "\n",
       "                       Address  Area_m2  Number_of_Bedrooms  \\\n",
       "0    Huyện Lạc Dương, Lâm Đồng      290                   5   \n",
       "1         TP. Đà Lạt, Lâm Đồng      110                   4   \n",
       "2         TP. Đà Lạt, Lâm Đồng      200                   3   \n",
       "3         TP. Đà Lạt, Lâm Đồng      157                   3   \n",
       "4         TP. Đà Lạt, Lâm Đồng      127                  12   \n",
       "..                         ...      ...                 ...   \n",
       "730       TP. Đà Lạt, Lâm Đồng       42                   4   \n",
       "731       TP. Đà Lạt, Lâm Đồng      120                   1   \n",
       "732       TP. Đà Lạt, Lâm Đồng       78                   3   \n",
       "733       TP. Đà Lạt, Lâm Đồng       62                   5   \n",
       "734       TP. Đà Lạt, Lâm Đồng      200                   6   \n",
       "\n",
       "     Number_of_Bathrooms Date_Posted        Price  \n",
       "0                      5  2024-10-23  11000000000  \n",
       "1                      4  2024-09-23  13500000000  \n",
       "2                      3  2024-09-23  14000000000  \n",
       "3                      3  2024-09-19   8700000000  \n",
       "4                     12  2024-09-18  19500000000  \n",
       "..                   ...         ...          ...  \n",
       "730                    3  2024-09-10   2450000000  \n",
       "731                    1  2024-09-10   6800000000  \n",
       "732                    2  2024-09-10   3200000000  \n",
       "733                    6  2024-09-10   4600000000  \n",
       "734                    3  2024-09-10   8100000000  \n",
       "\n",
       "[735 rows x 8 columns]"
      ]
     },
     "execution_count": 6,
     "metadata": {},
     "output_type": "execute_result"
    }
   ],
   "source": [
    "df = pd.read_csv(r'C:\\Users\\xuant\\OneDrive\\Máy tính\\LuanVanTotNghiep\\House_Price.csv')\n",
    "df"
   ]
  },
  {
   "cell_type": "code",
   "execution_count": 7,
   "metadata": {
    "colab": {
     "base_uri": "https://localhost:8080/"
    },
    "id": "sGWeMOmeHYLQ",
    "outputId": "c09bd6a9-e2c2-41e3-96f4-796bf8e76c96"
   },
   "outputs": [
    {
     "name": "stdout",
     "output_type": "stream",
     "text": [
      "Number Of Rows : 735\n",
      "Number Of Columns : 8\n"
     ]
    }
   ],
   "source": [
    "# hiển thị số dòng và số cột của dữ liệu\n",
    "\n",
    "rows, columns = df.shape\n",
    "\n",
    "print(f\"Number Of Rows : {rows}\")\n",
    "print(f\"Number Of Columns : {columns}\")"
   ]
  },
  {
   "cell_type": "code",
   "execution_count": 8,
   "metadata": {
    "colab": {
     "base_uri": "https://localhost:8080/",
     "height": 429
    },
    "id": "vpOsVO-aHgTq",
    "outputId": "faaa0e0c-a733-43a9-d71a-d92cb82aadf6"
   },
   "outputs": [
    {
     "data": {
      "text/plain": [
       "ID                                                  508\n",
       "Title                  Bán căn nhà đẹp Phường 9, Đà Lạt\n",
       "Address                            TP. Đà Lạt, Lâm Đồng\n",
       "Area_m2                                              78\n",
       "Number_of_Bedrooms                                    3\n",
       "Number_of_Bathrooms                                   2\n",
       "Date_Posted                                  2024-09-10\n",
       "Price                                        3200000000\n",
       "Name: 507, dtype: object"
      ]
     },
     "execution_count": 8,
     "metadata": {},
     "output_type": "execute_result"
    }
   ],
   "source": [
    "# Hiển thị mẫu dữ liệu\n",
    "\n",
    "df.sample(1).iloc[0]"
   ]
  },
  {
   "cell_type": "code",
   "execution_count": 9,
   "metadata": {
    "colab": {
     "base_uri": "https://localhost:8080/"
    },
    "id": "pRzFBPxOHh9Z",
    "outputId": "53ad7ca9-fdb0-459d-9ba6-63db6756d3d0"
   },
   "outputs": [
    {
     "name": "stdout",
     "output_type": "stream",
     "text": [
      "<class 'pandas.core.frame.DataFrame'>\n",
      "RangeIndex: 735 entries, 0 to 734\n",
      "Data columns (total 8 columns):\n",
      " #   Column               Non-Null Count  Dtype \n",
      "---  ------               --------------  ----- \n",
      " 0   ID                   735 non-null    int64 \n",
      " 1   Title                735 non-null    object\n",
      " 2   Address              735 non-null    object\n",
      " 3   Area_m2              735 non-null    int64 \n",
      " 4   Number_of_Bedrooms   735 non-null    int64 \n",
      " 5   Number_of_Bathrooms  735 non-null    int64 \n",
      " 6   Date_Posted          735 non-null    object\n",
      " 7   Price                735 non-null    int64 \n",
      "dtypes: int64(5), object(3)\n",
      "memory usage: 46.1+ KB\n"
     ]
    }
   ],
   "source": [
    "# Xuất ra dữ liệu\n",
    "df.info()"
   ]
  },
  {
   "cell_type": "code",
   "execution_count": 10,
   "metadata": {
    "colab": {
     "base_uri": "https://localhost:8080/",
     "height": 300
    },
    "id": "jKmaANvhHlem",
    "outputId": "a87ff117-fea6-44ce-9eb9-d3f5183de4f9"
   },
   "outputs": [
    {
     "data": {
      "text/html": [
       "<div>\n",
       "<style scoped>\n",
       "    .dataframe tbody tr th:only-of-type {\n",
       "        vertical-align: middle;\n",
       "    }\n",
       "\n",
       "    .dataframe tbody tr th {\n",
       "        vertical-align: top;\n",
       "    }\n",
       "\n",
       "    .dataframe thead th {\n",
       "        text-align: right;\n",
       "    }\n",
       "</style>\n",
       "<table border=\"1\" class=\"dataframe\">\n",
       "  <thead>\n",
       "    <tr style=\"text-align: right;\">\n",
       "      <th></th>\n",
       "      <th>ID</th>\n",
       "      <th>Area_m2</th>\n",
       "      <th>Number_of_Bedrooms</th>\n",
       "      <th>Number_of_Bathrooms</th>\n",
       "      <th>Price</th>\n",
       "    </tr>\n",
       "  </thead>\n",
       "  <tbody>\n",
       "    <tr>\n",
       "      <th>count</th>\n",
       "      <td>735.000000</td>\n",
       "      <td>735.000000</td>\n",
       "      <td>735.000000</td>\n",
       "      <td>735.000000</td>\n",
       "      <td>7.350000e+02</td>\n",
       "    </tr>\n",
       "    <tr>\n",
       "      <th>mean</th>\n",
       "      <td>368.000000</td>\n",
       "      <td>150.066667</td>\n",
       "      <td>4.200000</td>\n",
       "      <td>3.866667</td>\n",
       "      <td>8.076600e+09</td>\n",
       "    </tr>\n",
       "    <tr>\n",
       "      <th>std</th>\n",
       "      <td>212.320512</td>\n",
       "      <td>117.804968</td>\n",
       "      <td>2.429272</td>\n",
       "      <td>2.631535</td>\n",
       "      <td>4.496095e+09</td>\n",
       "    </tr>\n",
       "    <tr>\n",
       "      <th>min</th>\n",
       "      <td>1.000000</td>\n",
       "      <td>42.000000</td>\n",
       "      <td>1.000000</td>\n",
       "      <td>1.000000</td>\n",
       "      <td>2.450000e+09</td>\n",
       "    </tr>\n",
       "    <tr>\n",
       "      <th>25%</th>\n",
       "      <td>184.500000</td>\n",
       "      <td>78.000000</td>\n",
       "      <td>3.000000</td>\n",
       "      <td>2.000000</td>\n",
       "      <td>4.600000e+09</td>\n",
       "    </tr>\n",
       "    <tr>\n",
       "      <th>50%</th>\n",
       "      <td>368.000000</td>\n",
       "      <td>110.000000</td>\n",
       "      <td>4.000000</td>\n",
       "      <td>3.000000</td>\n",
       "      <td>6.800000e+09</td>\n",
       "    </tr>\n",
       "    <tr>\n",
       "      <th>75%</th>\n",
       "      <td>551.500000</td>\n",
       "      <td>200.000000</td>\n",
       "      <td>5.000000</td>\n",
       "      <td>5.000000</td>\n",
       "      <td>1.100000e+10</td>\n",
       "    </tr>\n",
       "    <tr>\n",
       "      <th>max</th>\n",
       "      <td>735.000000</td>\n",
       "      <td>522.000000</td>\n",
       "      <td>12.000000</td>\n",
       "      <td>12.000000</td>\n",
       "      <td>1.950000e+10</td>\n",
       "    </tr>\n",
       "  </tbody>\n",
       "</table>\n",
       "</div>"
      ],
      "text/plain": [
       "               ID     Area_m2  Number_of_Bedrooms  Number_of_Bathrooms  \\\n",
       "count  735.000000  735.000000          735.000000           735.000000   \n",
       "mean   368.000000  150.066667            4.200000             3.866667   \n",
       "std    212.320512  117.804968            2.429272             2.631535   \n",
       "min      1.000000   42.000000            1.000000             1.000000   \n",
       "25%    184.500000   78.000000            3.000000             2.000000   \n",
       "50%    368.000000  110.000000            4.000000             3.000000   \n",
       "75%    551.500000  200.000000            5.000000             5.000000   \n",
       "max    735.000000  522.000000           12.000000            12.000000   \n",
       "\n",
       "              Price  \n",
       "count  7.350000e+02  \n",
       "mean   8.076600e+09  \n",
       "std    4.496095e+09  \n",
       "min    2.450000e+09  \n",
       "25%    4.600000e+09  \n",
       "50%    6.800000e+09  \n",
       "75%    1.100000e+10  \n",
       "max    1.950000e+10  "
      ]
     },
     "execution_count": 10,
     "metadata": {},
     "output_type": "execute_result"
    }
   ],
   "source": [
    "# Xuất ra bản kê\n",
    "df.describe()"
   ]
  },
  {
   "cell_type": "code",
   "execution_count": 11,
   "metadata": {
    "colab": {
     "base_uri": "https://localhost:8080/",
     "height": 429
    },
    "id": "Wu5At003HpFn",
    "outputId": "51b2dd8f-da82-400c-da3f-c0d4b63abc76"
   },
   "outputs": [
    {
     "data": {
      "text/plain": [
       "ID                     735\n",
       "Title                   15\n",
       "Address                  3\n",
       "Area_m2                 14\n",
       "Number_of_Bedrooms       7\n",
       "Number_of_Bathrooms      7\n",
       "Date_Posted              8\n",
       "Price                   14\n",
       "dtype: int64"
      ]
     },
     "execution_count": 11,
     "metadata": {},
     "output_type": "execute_result"
    }
   ],
   "source": [
    "df.nunique()"
   ]
  },
  {
   "cell_type": "code",
   "execution_count": 12,
   "metadata": {
    "colab": {
     "base_uri": "https://localhost:8080/",
     "height": 206
    },
    "id": "vVjJEPbIHruk",
    "outputId": "a87cdfcb-fc75-45af-91c3-d65a39fa9aed"
   },
   "outputs": [
    {
     "data": {
      "text/html": [
       "<div>\n",
       "<style scoped>\n",
       "    .dataframe tbody tr th:only-of-type {\n",
       "        vertical-align: middle;\n",
       "    }\n",
       "\n",
       "    .dataframe tbody tr th {\n",
       "        vertical-align: top;\n",
       "    }\n",
       "\n",
       "    .dataframe thead th {\n",
       "        text-align: right;\n",
       "    }\n",
       "</style>\n",
       "<table border=\"1\" class=\"dataframe\">\n",
       "  <thead>\n",
       "    <tr style=\"text-align: right;\">\n",
       "      <th></th>\n",
       "      <th>ID</th>\n",
       "      <th>Title</th>\n",
       "      <th>Address</th>\n",
       "      <th>Area_m2</th>\n",
       "      <th>Number_of_Bedrooms</th>\n",
       "      <th>Number_of_Bathrooms</th>\n",
       "      <th>Date_Posted</th>\n",
       "      <th>Price</th>\n",
       "    </tr>\n",
       "  </thead>\n",
       "  <tbody>\n",
       "    <tr>\n",
       "      <th>0</th>\n",
       "      <td>1</td>\n",
       "      <td>Biệt thự Vạn Xuân- Đà Lạt 290m2 full xây dựng ...</td>\n",
       "      <td>Huyện Lạc Dương, Lâm Đồng</td>\n",
       "      <td>290</td>\n",
       "      <td>5</td>\n",
       "      <td>5</td>\n",
       "      <td>2024-10-23</td>\n",
       "      <td>11000000000</td>\n",
       "    </tr>\n",
       "    <tr>\n",
       "      <th>1</th>\n",
       "      <td>2</td>\n",
       "      <td>| 13,5 TỶ | Bán Villa Yersin - Phường 10 - Đà ...</td>\n",
       "      <td>TP. Đà Lạt, Lâm Đồng</td>\n",
       "      <td>110</td>\n",
       "      <td>4</td>\n",
       "      <td>4</td>\n",
       "      <td>2024-09-23</td>\n",
       "      <td>13500000000</td>\n",
       "    </tr>\n",
       "    <tr>\n",
       "      <th>2</th>\n",
       "      <td>3</td>\n",
       "      <td>Villa Sân Vườn Khu Sang trọng Đường Cô Giang P...</td>\n",
       "      <td>TP. Đà Lạt, Lâm Đồng</td>\n",
       "      <td>200</td>\n",
       "      <td>3</td>\n",
       "      <td>3</td>\n",
       "      <td>2024-09-23</td>\n",
       "      <td>14000000000</td>\n",
       "    </tr>\n",
       "    <tr>\n",
       "      <th>3</th>\n",
       "      <td>4</td>\n",
       "      <td>Cán bán căn Villa như hình gần khu du lịch Hồ ...</td>\n",
       "      <td>TP. Đà Lạt, Lâm Đồng</td>\n",
       "      <td>157</td>\n",
       "      <td>3</td>\n",
       "      <td>3</td>\n",
       "      <td>2024-09-19</td>\n",
       "      <td>8700000000</td>\n",
       "    </tr>\n",
       "    <tr>\n",
       "      <th>4</th>\n",
       "      <td>5</td>\n",
       "      <td>Cần bán khách sạn 2 mặt tiền - Ngay trung tâm ...</td>\n",
       "      <td>TP. Đà Lạt, Lâm Đồng</td>\n",
       "      <td>127</td>\n",
       "      <td>12</td>\n",
       "      <td>12</td>\n",
       "      <td>2024-09-18</td>\n",
       "      <td>19500000000</td>\n",
       "    </tr>\n",
       "  </tbody>\n",
       "</table>\n",
       "</div>"
      ],
      "text/plain": [
       "   ID                                              Title  \\\n",
       "0   1  Biệt thự Vạn Xuân- Đà Lạt 290m2 full xây dựng ...   \n",
       "1   2  | 13,5 TỶ | Bán Villa Yersin - Phường 10 - Đà ...   \n",
       "2   3  Villa Sân Vườn Khu Sang trọng Đường Cô Giang P...   \n",
       "3   4  Cán bán căn Villa như hình gần khu du lịch Hồ ...   \n",
       "4   5  Cần bán khách sạn 2 mặt tiền - Ngay trung tâm ...   \n",
       "\n",
       "                     Address  Area_m2  Number_of_Bedrooms  \\\n",
       "0  Huyện Lạc Dương, Lâm Đồng      290                   5   \n",
       "1       TP. Đà Lạt, Lâm Đồng      110                   4   \n",
       "2       TP. Đà Lạt, Lâm Đồng      200                   3   \n",
       "3       TP. Đà Lạt, Lâm Đồng      157                   3   \n",
       "4       TP. Đà Lạt, Lâm Đồng      127                  12   \n",
       "\n",
       "   Number_of_Bathrooms Date_Posted        Price  \n",
       "0                    5  2024-10-23  11000000000  \n",
       "1                    4  2024-09-23  13500000000  \n",
       "2                    3  2024-09-23  14000000000  \n",
       "3                    3  2024-09-19   8700000000  \n",
       "4                   12  2024-09-18  19500000000  "
      ]
     },
     "execution_count": 12,
     "metadata": {},
     "output_type": "execute_result"
    }
   ],
   "source": [
    "#Xuất ra 5 dòng trên cùng\n",
    "df.head()"
   ]
  },
  {
   "cell_type": "code",
   "execution_count": 13,
   "metadata": {
    "colab": {
     "base_uri": "https://localhost:8080/",
     "height": 429
    },
    "id": "T-fSLUUJRe_j",
    "outputId": "502ba373-769f-4a82-f584-4295c5c22632"
   },
   "outputs": [
    {
     "data": {
      "text/plain": [
       "ID                     0\n",
       "Title                  0\n",
       "Address                0\n",
       "Area_m2                0\n",
       "Number_of_Bedrooms     0\n",
       "Number_of_Bathrooms    0\n",
       "Date_Posted            0\n",
       "Price                  0\n",
       "dtype: int64"
      ]
     },
     "execution_count": 13,
     "metadata": {},
     "output_type": "execute_result"
    }
   ],
   "source": [
    "# Kiểm tra các giá trị Null trong bộ dữ liệu\n",
    "df.isnull().sum()"
   ]
  },
  {
   "cell_type": "code",
   "execution_count": 14,
   "metadata": {
    "colab": {
     "base_uri": "https://localhost:8080/",
     "height": 424
    },
    "id": "bDRvUkIIRrlp",
    "outputId": "0023a6d4-8acc-41e2-fa03-d195b632cef9"
   },
   "outputs": [
    {
     "data": {
      "text/html": [
       "<div>\n",
       "<style scoped>\n",
       "    .dataframe tbody tr th:only-of-type {\n",
       "        vertical-align: middle;\n",
       "    }\n",
       "\n",
       "    .dataframe tbody tr th {\n",
       "        vertical-align: top;\n",
       "    }\n",
       "\n",
       "    .dataframe thead th {\n",
       "        text-align: right;\n",
       "    }\n",
       "</style>\n",
       "<table border=\"1\" class=\"dataframe\">\n",
       "  <thead>\n",
       "    <tr style=\"text-align: right;\">\n",
       "      <th></th>\n",
       "      <th>ID</th>\n",
       "      <th>Title</th>\n",
       "      <th>Address</th>\n",
       "      <th>Area_m2</th>\n",
       "      <th>Number_of_Bedrooms</th>\n",
       "      <th>Number_of_Bathrooms</th>\n",
       "      <th>Date_Posted</th>\n",
       "      <th>Price</th>\n",
       "    </tr>\n",
       "  </thead>\n",
       "  <tbody>\n",
       "    <tr>\n",
       "      <th>0</th>\n",
       "      <td>1</td>\n",
       "      <td>Biệt thự Vạn Xuân- Đà Lạt 290m2 full xây dựng ...</td>\n",
       "      <td>Huyện Lạc Dương, Lâm Đồng</td>\n",
       "      <td>290</td>\n",
       "      <td>5</td>\n",
       "      <td>5</td>\n",
       "      <td>2024-10-23</td>\n",
       "      <td>11000000000</td>\n",
       "    </tr>\n",
       "    <tr>\n",
       "      <th>1</th>\n",
       "      <td>2</td>\n",
       "      <td>| 13,5 TỶ | Bán Villa Yersin - Phường 10 - Đà ...</td>\n",
       "      <td>TP. Đà Lạt, Lâm Đồng</td>\n",
       "      <td>110</td>\n",
       "      <td>4</td>\n",
       "      <td>4</td>\n",
       "      <td>2024-09-23</td>\n",
       "      <td>13500000000</td>\n",
       "    </tr>\n",
       "    <tr>\n",
       "      <th>2</th>\n",
       "      <td>3</td>\n",
       "      <td>Villa Sân Vườn Khu Sang trọng Đường Cô Giang P...</td>\n",
       "      <td>TP. Đà Lạt, Lâm Đồng</td>\n",
       "      <td>200</td>\n",
       "      <td>3</td>\n",
       "      <td>3</td>\n",
       "      <td>2024-09-23</td>\n",
       "      <td>14000000000</td>\n",
       "    </tr>\n",
       "    <tr>\n",
       "      <th>3</th>\n",
       "      <td>4</td>\n",
       "      <td>Cán bán căn Villa như hình gần khu du lịch Hồ ...</td>\n",
       "      <td>TP. Đà Lạt, Lâm Đồng</td>\n",
       "      <td>157</td>\n",
       "      <td>3</td>\n",
       "      <td>3</td>\n",
       "      <td>2024-09-19</td>\n",
       "      <td>8700000000</td>\n",
       "    </tr>\n",
       "    <tr>\n",
       "      <th>4</th>\n",
       "      <td>5</td>\n",
       "      <td>Cần bán khách sạn 2 mặt tiền - Ngay trung tâm ...</td>\n",
       "      <td>TP. Đà Lạt, Lâm Đồng</td>\n",
       "      <td>127</td>\n",
       "      <td>12</td>\n",
       "      <td>12</td>\n",
       "      <td>2024-09-18</td>\n",
       "      <td>19500000000</td>\n",
       "    </tr>\n",
       "    <tr>\n",
       "      <th>...</th>\n",
       "      <td>...</td>\n",
       "      <td>...</td>\n",
       "      <td>...</td>\n",
       "      <td>...</td>\n",
       "      <td>...</td>\n",
       "      <td>...</td>\n",
       "      <td>...</td>\n",
       "      <td>...</td>\n",
       "    </tr>\n",
       "    <tr>\n",
       "      <th>730</th>\n",
       "      <td>731</td>\n",
       "      <td>Cần bán nhà góc 2 mặt tiền hẻm oto NGÔ THÌ SỸ ...</td>\n",
       "      <td>TP. Đà Lạt, Lâm Đồng</td>\n",
       "      <td>42</td>\n",
       "      <td>4</td>\n",
       "      <td>3</td>\n",
       "      <td>2024-09-10</td>\n",
       "      <td>2450000000</td>\n",
       "    </tr>\n",
       "    <tr>\n",
       "      <th>731</th>\n",
       "      <td>732</td>\n",
       "      <td>🎯🎯Bán homestay Hẻm 27 Lê Hồng Phong, Phường 4,...</td>\n",
       "      <td>TP. Đà Lạt, Lâm Đồng</td>\n",
       "      <td>120</td>\n",
       "      <td>1</td>\n",
       "      <td>1</td>\n",
       "      <td>2024-09-10</td>\n",
       "      <td>6800000000</td>\n",
       "    </tr>\n",
       "    <tr>\n",
       "      <th>732</th>\n",
       "      <td>733</td>\n",
       "      <td>Bán căn nhà đẹp Phường 9, Đà Lạt</td>\n",
       "      <td>TP. Đà Lạt, Lâm Đồng</td>\n",
       "      <td>78</td>\n",
       "      <td>3</td>\n",
       "      <td>2</td>\n",
       "      <td>2024-09-10</td>\n",
       "      <td>3200000000</td>\n",
       "    </tr>\n",
       "    <tr>\n",
       "      <th>733</th>\n",
       "      <td>734</td>\n",
       "      <td>Bán Nhà Nam Hồ, P11, Đà Lạt  - giá siêu tốt tr...</td>\n",
       "      <td>TP. Đà Lạt, Lâm Đồng</td>\n",
       "      <td>62</td>\n",
       "      <td>5</td>\n",
       "      <td>6</td>\n",
       "      <td>2024-09-10</td>\n",
       "      <td>4600000000</td>\n",
       "    </tr>\n",
       "    <tr>\n",
       "      <th>734</th>\n",
       "      <td>735</td>\n",
       "      <td>Ngộp ngân hàng - Hạ giá cần bán gấp biệt thự p12</td>\n",
       "      <td>TP. Đà Lạt, Lâm Đồng</td>\n",
       "      <td>200</td>\n",
       "      <td>6</td>\n",
       "      <td>3</td>\n",
       "      <td>2024-09-10</td>\n",
       "      <td>8100000000</td>\n",
       "    </tr>\n",
       "  </tbody>\n",
       "</table>\n",
       "<p>735 rows × 8 columns</p>\n",
       "</div>"
      ],
      "text/plain": [
       "      ID                                              Title  \\\n",
       "0      1  Biệt thự Vạn Xuân- Đà Lạt 290m2 full xây dựng ...   \n",
       "1      2  | 13,5 TỶ | Bán Villa Yersin - Phường 10 - Đà ...   \n",
       "2      3  Villa Sân Vườn Khu Sang trọng Đường Cô Giang P...   \n",
       "3      4  Cán bán căn Villa như hình gần khu du lịch Hồ ...   \n",
       "4      5  Cần bán khách sạn 2 mặt tiền - Ngay trung tâm ...   \n",
       "..   ...                                                ...   \n",
       "730  731  Cần bán nhà góc 2 mặt tiền hẻm oto NGÔ THÌ SỸ ...   \n",
       "731  732  🎯🎯Bán homestay Hẻm 27 Lê Hồng Phong, Phường 4,...   \n",
       "732  733                   Bán căn nhà đẹp Phường 9, Đà Lạt   \n",
       "733  734  Bán Nhà Nam Hồ, P11, Đà Lạt  - giá siêu tốt tr...   \n",
       "734  735   Ngộp ngân hàng - Hạ giá cần bán gấp biệt thự p12   \n",
       "\n",
       "                       Address  Area_m2  Number_of_Bedrooms  \\\n",
       "0    Huyện Lạc Dương, Lâm Đồng      290                   5   \n",
       "1         TP. Đà Lạt, Lâm Đồng      110                   4   \n",
       "2         TP. Đà Lạt, Lâm Đồng      200                   3   \n",
       "3         TP. Đà Lạt, Lâm Đồng      157                   3   \n",
       "4         TP. Đà Lạt, Lâm Đồng      127                  12   \n",
       "..                         ...      ...                 ...   \n",
       "730       TP. Đà Lạt, Lâm Đồng       42                   4   \n",
       "731       TP. Đà Lạt, Lâm Đồng      120                   1   \n",
       "732       TP. Đà Lạt, Lâm Đồng       78                   3   \n",
       "733       TP. Đà Lạt, Lâm Đồng       62                   5   \n",
       "734       TP. Đà Lạt, Lâm Đồng      200                   6   \n",
       "\n",
       "     Number_of_Bathrooms Date_Posted        Price  \n",
       "0                      5  2024-10-23  11000000000  \n",
       "1                      4  2024-09-23  13500000000  \n",
       "2                      3  2024-09-23  14000000000  \n",
       "3                      3  2024-09-19   8700000000  \n",
       "4                     12  2024-09-18  19500000000  \n",
       "..                   ...         ...          ...  \n",
       "730                    3  2024-09-10   2450000000  \n",
       "731                    1  2024-09-10   6800000000  \n",
       "732                    2  2024-09-10   3200000000  \n",
       "733                    6  2024-09-10   4600000000  \n",
       "734                    3  2024-09-10   8100000000  \n",
       "\n",
       "[735 rows x 8 columns]"
      ]
     },
     "execution_count": 14,
     "metadata": {},
     "output_type": "execute_result"
    }
   ],
   "source": [
    "#xóa dữ liệu bị NaN\n",
    "data = df.dropna()\n",
    "data"
   ]
  },
  {
   "cell_type": "code",
   "execution_count": 15,
   "metadata": {
    "colab": {
     "base_uri": "https://localhost:8080/",
     "height": 429
    },
    "id": "KMtmXShyYALh",
    "outputId": "3f3b506c-fc3c-4098-f509-3ee7004293d2"
   },
   "outputs": [
    {
     "data": {
      "text/plain": [
       "ID                     0\n",
       "Title                  0\n",
       "Address                0\n",
       "Area_m2                0\n",
       "Number_of_Bedrooms     0\n",
       "Number_of_Bathrooms    0\n",
       "Date_Posted            0\n",
       "Price                  0\n",
       "dtype: int64"
      ]
     },
     "execution_count": 15,
     "metadata": {},
     "output_type": "execute_result"
    }
   ],
   "source": [
    "# Kiểm tra các giá trị Null trong bộ dữ liệu\n",
    "data.isnull().sum()"
   ]
  },
  {
   "cell_type": "code",
   "execution_count": 16,
   "metadata": {
    "colab": {
     "base_uri": "https://localhost:8080/"
    },
    "id": "jy6oUb1OR8tI",
    "outputId": "b6672dd6-ea6d-40cc-f718-3287873871c0"
   },
   "outputs": [
    {
     "name": "stdout",
     "output_type": "stream",
     "text": [
      "False\n",
      "Empty DataFrame\n",
      "Columns: [ID, Title, Address, Area_m2, Number_of_Bedrooms, Number_of_Bathrooms, Date_Posted, Price]\n",
      "Index: []\n"
     ]
    }
   ],
   "source": [
    "#Kiểm tra có bị trùng lặp dữ liệu\n",
    "dups = data.duplicated()\n",
    "print(dups.any())\n",
    "print(data[dups])"
   ]
  },
  {
   "cell_type": "code",
   "execution_count": 17,
   "metadata": {},
   "outputs": [],
   "source": [
    "# Kiểm tra và xóa các hàng trùng lặp\n",
    "data = data.drop_duplicates()\n"
   ]
  },
  {
   "cell_type": "code",
   "execution_count": 18,
   "metadata": {},
   "outputs": [
    {
     "name": "stdout",
     "output_type": "stream",
     "text": [
      "False\n",
      "Empty DataFrame\n",
      "Columns: [ID, Title, Address, Area_m2, Number_of_Bedrooms, Number_of_Bathrooms, Date_Posted, Price]\n",
      "Index: []\n"
     ]
    }
   ],
   "source": [
    "#Kiểm tra lại có bị trùng lặp dữ liệu\n",
    "dups = data.duplicated()\n",
    "print(dups.any())\n",
    "print(data[dups])"
   ]
  },
  {
   "cell_type": "code",
   "execution_count": 19,
   "metadata": {
    "colab": {
     "base_uri": "https://localhost:8080/"
    },
    "id": "M-_47LP_LUdg",
    "outputId": "fdac4241-37e6-4c8c-8f9d-40c671f84978"
   },
   "outputs": [
    {
     "data": {
      "text/plain": [
       "Index(['Title', 'Address', 'Date_Posted'], dtype='object')"
      ]
     },
     "execution_count": 19,
     "metadata": {},
     "output_type": "execute_result"
    }
   ],
   "source": [
    "# Xác định các cột không phải số\n",
    "non_numeric_cols = data.select_dtypes(exclude=['number']).columns\n",
    "non_numeric_cols"
   ]
  },
  {
   "cell_type": "code",
   "execution_count": 20,
   "metadata": {
    "colab": {
     "base_uri": "https://localhost:8080/",
     "height": 238
    },
    "id": "K-dZ8pflLJ7P",
    "outputId": "6cf6f099-2ce6-4903-cec5-28fcf6f37667"
   },
   "outputs": [
    {
     "data": {
      "text/html": [
       "<div>\n",
       "<style scoped>\n",
       "    .dataframe tbody tr th:only-of-type {\n",
       "        vertical-align: middle;\n",
       "    }\n",
       "\n",
       "    .dataframe tbody tr th {\n",
       "        vertical-align: top;\n",
       "    }\n",
       "\n",
       "    .dataframe thead th {\n",
       "        text-align: right;\n",
       "    }\n",
       "</style>\n",
       "<table border=\"1\" class=\"dataframe\">\n",
       "  <thead>\n",
       "    <tr style=\"text-align: right;\">\n",
       "      <th></th>\n",
       "      <th>ID</th>\n",
       "      <th>Area_m2</th>\n",
       "      <th>Number_of_Bedrooms</th>\n",
       "      <th>Number_of_Bathrooms</th>\n",
       "      <th>Price</th>\n",
       "    </tr>\n",
       "  </thead>\n",
       "  <tbody>\n",
       "    <tr>\n",
       "      <th>ID</th>\n",
       "      <td>1.000000</td>\n",
       "      <td>-0.003947</td>\n",
       "      <td>-0.002200</td>\n",
       "      <td>-0.004899</td>\n",
       "      <td>-0.012885</td>\n",
       "    </tr>\n",
       "    <tr>\n",
       "      <th>Area_m2</th>\n",
       "      <td>-0.003947</td>\n",
       "      <td>1.000000</td>\n",
       "      <td>0.063403</td>\n",
       "      <td>0.060109</td>\n",
       "      <td>0.119226</td>\n",
       "    </tr>\n",
       "    <tr>\n",
       "      <th>Number_of_Bedrooms</th>\n",
       "      <td>-0.002200</td>\n",
       "      <td>0.063403</td>\n",
       "      <td>1.000000</td>\n",
       "      <td>0.933581</td>\n",
       "      <td>0.623249</td>\n",
       "    </tr>\n",
       "    <tr>\n",
       "      <th>Number_of_Bathrooms</th>\n",
       "      <td>-0.004899</td>\n",
       "      <td>0.060109</td>\n",
       "      <td>0.933581</td>\n",
       "      <td>1.000000</td>\n",
       "      <td>0.633647</td>\n",
       "    </tr>\n",
       "    <tr>\n",
       "      <th>Price</th>\n",
       "      <td>-0.012885</td>\n",
       "      <td>0.119226</td>\n",
       "      <td>0.623249</td>\n",
       "      <td>0.633647</td>\n",
       "      <td>1.000000</td>\n",
       "    </tr>\n",
       "  </tbody>\n",
       "</table>\n",
       "</div>"
      ],
      "text/plain": [
       "                           ID   Area_m2  Number_of_Bedrooms  \\\n",
       "ID                   1.000000 -0.003947           -0.002200   \n",
       "Area_m2             -0.003947  1.000000            0.063403   \n",
       "Number_of_Bedrooms  -0.002200  0.063403            1.000000   \n",
       "Number_of_Bathrooms -0.004899  0.060109            0.933581   \n",
       "Price               -0.012885  0.119226            0.623249   \n",
       "\n",
       "                     Number_of_Bathrooms     Price  \n",
       "ID                             -0.004899 -0.012885  \n",
       "Area_m2                         0.060109  0.119226  \n",
       "Number_of_Bedrooms              0.933581  0.623249  \n",
       "Number_of_Bathrooms             1.000000  0.633647  \n",
       "Price                           0.633647  1.000000  "
      ]
     },
     "execution_count": 20,
     "metadata": {},
     "output_type": "execute_result"
    }
   ],
   "source": [
    "# Chỉ tính tương quan cho các cột số\n",
    "df_numeric = data.drop(columns=non_numeric_cols)\n",
    "df_numeric.corr()"
   ]
  },
  {
   "cell_type": "code",
   "execution_count": 21,
   "metadata": {},
   "outputs": [],
   "source": [
    "X = data[['Area_m2', 'Number_of_Bedrooms', 'Number_of_Bathrooms']]\n",
    "y = data['Price']"
   ]
  },
  {
   "cell_type": "code",
   "execution_count": 22,
   "metadata": {},
   "outputs": [],
   "source": [
    "# Tách dữ liệu thành tập huấn luyện và kiểm tra\n",
    "X_train, X_test, y_train, y_test = train_test_split(X, y, test_size=0.2, random_state=42)\n"
   ]
  },
  {
   "cell_type": "code",
   "execution_count": 23,
   "metadata": {},
   "outputs": [],
   "source": [
    "# Chuẩn hóa đầu vào X\n",
    "scaler_X = MinMaxScaler()\n",
    "X_train = scaler_X.fit_transform(X_train)\n",
    "X_test = scaler_X.transform(X_test)"
   ]
  },
  {
   "cell_type": "code",
   "execution_count": 25,
   "metadata": {},
   "outputs": [],
   "source": [
    "# Chuẩn hóa đầu ra y (giá nhà) vào khoảng [0, 1]\n",
    "scaler_y = MinMaxScaler()\n",
    "y_train = y_train.values.reshape(-1, 1)  # Chuyển y_train thành dạng cột để chuẩn hóa\n",
    "y_test = y_test.values.reshape(-1, 1)\n",
    "y_train_scaled = scaler_y.fit_transform(y_train)\n",
    "y_test_scaled = scaler_y.transform(y_test)"
   ]
  },
  {
   "cell_type": "code",
   "execution_count": 26,
   "metadata": {},
   "outputs": [
    {
     "data": {
      "text/plain": [
       "['scaler_y.pkl']"
      ]
     },
     "execution_count": 26,
     "metadata": {},
     "output_type": "execute_result"
    }
   ],
   "source": [
    "# Lưu đối tượng scaler\n",
    "joblib.dump(scaler_X, 'scaler_X.pkl')\n",
    "joblib.dump(scaler_y, 'scaler_y.pkl')"
   ]
  },
  {
   "cell_type": "code",
   "execution_count": 27,
   "metadata": {},
   "outputs": [
    {
     "name": "stderr",
     "output_type": "stream",
     "text": [
      "C:\\Users\\xuant\\AppData\\Roaming\\Python\\Python310\\site-packages\\keras\\src\\layers\\core\\dense.py:87: UserWarning: Do not pass an `input_shape`/`input_dim` argument to a layer. When using Sequential models, prefer using an `Input(shape)` object as the first layer in the model instead.\n",
      "  super().__init__(activity_regularizer=activity_regularizer, **kwargs)\n"
     ]
    }
   ],
   "source": [
    "# Xây dựng mô hình ANN\n",
    "model = Sequential()\n",
    "model.add(Dense(64, input_dim=X_train.shape[1], activation='relu'))  # Lớp ẩn thứ nhất với 64 neuron\n",
    "model.add(Dense(32, activation='relu'))                              # Lớp ẩn thứ hai với 32 neuron\n",
    "model.add(Dense(16, activation='relu'))                              # Lớp ẩn thứ ba với 16 neuron\n",
    "model.add(Dense(1))                                                  # Lớp đầu ra\n",
    "\n",
    "# Biên dịch mô hình\n",
    "model.compile(optimizer='adam', loss='mean_squared_error')\n"
   ]
  },
  {
   "cell_type": "code",
   "execution_count": 28,
   "metadata": {},
   "outputs": [
    {
     "name": "stdout",
     "output_type": "stream",
     "text": [
      "Epoch 1/100\n",
      "\u001b[1m59/59\u001b[0m \u001b[32m━━━━━━━━━━━━━━━━━━━━\u001b[0m\u001b[37m\u001b[0m \u001b[1m2s\u001b[0m 7ms/step - loss: 0.1403 - val_loss: 0.0362\n",
      "Epoch 2/100\n",
      "\u001b[1m59/59\u001b[0m \u001b[32m━━━━━━━━━━━━━━━━━━━━\u001b[0m\u001b[37m\u001b[0m \u001b[1m0s\u001b[0m 3ms/step - loss: 0.0369 - val_loss: 0.0260\n",
      "Epoch 3/100\n",
      "\u001b[1m59/59\u001b[0m \u001b[32m━━━━━━━━━━━━━━━━━━━━\u001b[0m\u001b[37m\u001b[0m \u001b[1m0s\u001b[0m 3ms/step - loss: 0.0256 - val_loss: 0.0197\n",
      "Epoch 4/100\n",
      "\u001b[1m59/59\u001b[0m \u001b[32m━━━━━━━━━━━━━━━━━━━━\u001b[0m\u001b[37m\u001b[0m \u001b[1m0s\u001b[0m 3ms/step - loss: 0.0168 - val_loss: 0.0177\n",
      "Epoch 5/100\n",
      "\u001b[1m59/59\u001b[0m \u001b[32m━━━━━━━━━━━━━━━━━━━━\u001b[0m\u001b[37m\u001b[0m \u001b[1m0s\u001b[0m 3ms/step - loss: 0.0145 - val_loss: 0.0156\n",
      "Epoch 6/100\n",
      "\u001b[1m59/59\u001b[0m \u001b[32m━━━━━━━━━━━━━━━━━━━━\u001b[0m\u001b[37m\u001b[0m \u001b[1m0s\u001b[0m 4ms/step - loss: 0.0122 - val_loss: 0.0138\n",
      "Epoch 7/100\n",
      "\u001b[1m59/59\u001b[0m \u001b[32m━━━━━━━━━━━━━━━━━━━━\u001b[0m\u001b[37m\u001b[0m \u001b[1m0s\u001b[0m 3ms/step - loss: 0.0113 - val_loss: 0.0122\n",
      "Epoch 8/100\n",
      "\u001b[1m59/59\u001b[0m \u001b[32m━━━━━━━━━━━━━━━━━━━━\u001b[0m\u001b[37m\u001b[0m \u001b[1m0s\u001b[0m 3ms/step - loss: 0.0095 - val_loss: 0.0104\n",
      "Epoch 9/100\n",
      "\u001b[1m59/59\u001b[0m \u001b[32m━━━━━━━━━━━━━━━━━━━━\u001b[0m\u001b[37m\u001b[0m \u001b[1m0s\u001b[0m 3ms/step - loss: 0.0070 - val_loss: 0.0088\n",
      "Epoch 10/100\n",
      "\u001b[1m59/59\u001b[0m \u001b[32m━━━━━━━━━━━━━━━━━━━━\u001b[0m\u001b[37m\u001b[0m \u001b[1m0s\u001b[0m 5ms/step - loss: 0.0059 - val_loss: 0.0076\n",
      "Epoch 11/100\n",
      "\u001b[1m59/59\u001b[0m \u001b[32m━━━━━━━━━━━━━━━━━━━━\u001b[0m\u001b[37m\u001b[0m \u001b[1m0s\u001b[0m 5ms/step - loss: 0.0054 - val_loss: 0.0071\n",
      "Epoch 12/100\n",
      "\u001b[1m59/59\u001b[0m \u001b[32m━━━━━━━━━━━━━━━━━━━━\u001b[0m\u001b[37m\u001b[0m \u001b[1m1s\u001b[0m 5ms/step - loss: 0.0056 - val_loss: 0.0066\n",
      "Epoch 13/100\n",
      "\u001b[1m59/59\u001b[0m \u001b[32m━━━━━━━━━━━━━━━━━━━━\u001b[0m\u001b[37m\u001b[0m \u001b[1m1s\u001b[0m 3ms/step - loss: 0.0053 - val_loss: 0.0066\n",
      "Epoch 14/100\n",
      "\u001b[1m59/59\u001b[0m \u001b[32m━━━━━━━━━━━━━━━━━━━━\u001b[0m\u001b[37m\u001b[0m \u001b[1m0s\u001b[0m 7ms/step - loss: 0.0047 - val_loss: 0.0053\n",
      "Epoch 15/100\n",
      "\u001b[1m59/59\u001b[0m \u001b[32m━━━━━━━━━━━━━━━━━━━━\u001b[0m\u001b[37m\u001b[0m \u001b[1m0s\u001b[0m 3ms/step - loss: 0.0039 - val_loss: 0.0049\n",
      "Epoch 16/100\n",
      "\u001b[1m59/59\u001b[0m \u001b[32m━━━━━━━━━━━━━━━━━━━━\u001b[0m\u001b[37m\u001b[0m \u001b[1m0s\u001b[0m 3ms/step - loss: 0.0038 - val_loss: 0.0039\n",
      "Epoch 17/100\n",
      "\u001b[1m59/59\u001b[0m \u001b[32m━━━━━━━━━━━━━━━━━━━━\u001b[0m\u001b[37m\u001b[0m \u001b[1m0s\u001b[0m 3ms/step - loss: 0.0032 - val_loss: 0.0038\n",
      "Epoch 18/100\n",
      "\u001b[1m59/59\u001b[0m \u001b[32m━━━━━━━━━━━━━━━━━━━━\u001b[0m\u001b[37m\u001b[0m \u001b[1m0s\u001b[0m 3ms/step - loss: 0.0035 - val_loss: 0.0038\n",
      "Epoch 19/100\n",
      "\u001b[1m59/59\u001b[0m \u001b[32m━━━━━━━━━━━━━━━━━━━━\u001b[0m\u001b[37m\u001b[0m \u001b[1m0s\u001b[0m 3ms/step - loss: 0.0029 - val_loss: 0.0030\n",
      "Epoch 20/100\n",
      "\u001b[1m59/59\u001b[0m \u001b[32m━━━━━━━━━━━━━━━━━━━━\u001b[0m\u001b[37m\u001b[0m \u001b[1m0s\u001b[0m 2ms/step - loss: 0.0029 - val_loss: 0.0026\n",
      "Epoch 21/100\n",
      "\u001b[1m59/59\u001b[0m \u001b[32m━━━━━━━━━━━━━━━━━━━━\u001b[0m\u001b[37m\u001b[0m \u001b[1m0s\u001b[0m 3ms/step - loss: 0.0026 - val_loss: 0.0023\n",
      "Epoch 22/100\n",
      "\u001b[1m59/59\u001b[0m \u001b[32m━━━━━━━━━━━━━━━━━━━━\u001b[0m\u001b[37m\u001b[0m \u001b[1m0s\u001b[0m 3ms/step - loss: 0.0023 - val_loss: 0.0020\n",
      "Epoch 23/100\n",
      "\u001b[1m59/59\u001b[0m \u001b[32m━━━━━━━━━━━━━━━━━━━━\u001b[0m\u001b[37m\u001b[0m \u001b[1m0s\u001b[0m 5ms/step - loss: 0.0019 - val_loss: 0.0018\n",
      "Epoch 24/100\n",
      "\u001b[1m59/59\u001b[0m \u001b[32m━━━━━━━━━━━━━━━━━━━━\u001b[0m\u001b[37m\u001b[0m \u001b[1m0s\u001b[0m 3ms/step - loss: 0.0020 - val_loss: 0.0020\n",
      "Epoch 25/100\n",
      "\u001b[1m59/59\u001b[0m \u001b[32m━━━━━━━━━━━━━━━━━━━━\u001b[0m\u001b[37m\u001b[0m \u001b[1m0s\u001b[0m 4ms/step - loss: 0.0019 - val_loss: 0.0013\n",
      "Epoch 26/100\n",
      "\u001b[1m59/59\u001b[0m \u001b[32m━━━━━━━━━━━━━━━━━━━━\u001b[0m\u001b[37m\u001b[0m \u001b[1m0s\u001b[0m 3ms/step - loss: 0.0017 - val_loss: 0.0012\n",
      "Epoch 27/100\n",
      "\u001b[1m59/59\u001b[0m \u001b[32m━━━━━━━━━━━━━━━━━━━━\u001b[0m\u001b[37m\u001b[0m \u001b[1m0s\u001b[0m 3ms/step - loss: 0.0016 - val_loss: 0.0014\n",
      "Epoch 28/100\n",
      "\u001b[1m59/59\u001b[0m \u001b[32m━━━━━━━━━━━━━━━━━━━━\u001b[0m\u001b[37m\u001b[0m \u001b[1m0s\u001b[0m 3ms/step - loss: 0.0015 - val_loss: 0.0012\n",
      "Epoch 29/100\n",
      "\u001b[1m59/59\u001b[0m \u001b[32m━━━━━━━━━━━━━━━━━━━━\u001b[0m\u001b[37m\u001b[0m \u001b[1m0s\u001b[0m 4ms/step - loss: 0.0014 - val_loss: 8.7572e-04\n",
      "Epoch 30/100\n",
      "\u001b[1m59/59\u001b[0m \u001b[32m━━━━━━━━━━━━━━━━━━━━\u001b[0m\u001b[37m\u001b[0m \u001b[1m0s\u001b[0m 6ms/step - loss: 0.0013 - val_loss: 0.0010\n",
      "Epoch 31/100\n",
      "\u001b[1m59/59\u001b[0m \u001b[32m━━━━━━━━━━━━━━━━━━━━\u001b[0m\u001b[37m\u001b[0m \u001b[1m0s\u001b[0m 6ms/step - loss: 0.0012 - val_loss: 0.0011\n",
      "Epoch 32/100\n",
      "\u001b[1m59/59\u001b[0m \u001b[32m━━━━━━━━━━━━━━━━━━━━\u001b[0m\u001b[37m\u001b[0m \u001b[1m0s\u001b[0m 2ms/step - loss: 0.0014 - val_loss: 0.0015\n",
      "Epoch 33/100\n",
      "\u001b[1m59/59\u001b[0m \u001b[32m━━━━━━━━━━━━━━━━━━━━\u001b[0m\u001b[37m\u001b[0m \u001b[1m0s\u001b[0m 2ms/step - loss: 0.0013 - val_loss: 8.3310e-04\n",
      "Epoch 34/100\n",
      "\u001b[1m59/59\u001b[0m \u001b[32m━━━━━━━━━━━━━━━━━━━━\u001b[0m\u001b[37m\u001b[0m \u001b[1m0s\u001b[0m 3ms/step - loss: 0.0010 - val_loss: 0.0016\n",
      "Epoch 35/100\n",
      "\u001b[1m59/59\u001b[0m \u001b[32m━━━━━━━━━━━━━━━━━━━━\u001b[0m\u001b[37m\u001b[0m \u001b[1m0s\u001b[0m 3ms/step - loss: 0.0012 - val_loss: 7.9474e-04\n",
      "Epoch 36/100\n",
      "\u001b[1m59/59\u001b[0m \u001b[32m━━━━━━━━━━━━━━━━━━━━\u001b[0m\u001b[37m\u001b[0m \u001b[1m0s\u001b[0m 4ms/step - loss: 0.0013 - val_loss: 0.0011\n",
      "Epoch 37/100\n",
      "\u001b[1m59/59\u001b[0m \u001b[32m━━━━━━━━━━━━━━━━━━━━\u001b[0m\u001b[37m\u001b[0m \u001b[1m0s\u001b[0m 5ms/step - loss: 0.0011 - val_loss: 9.0828e-04\n",
      "Epoch 38/100\n",
      "\u001b[1m59/59\u001b[0m \u001b[32m━━━━━━━━━━━━━━━━━━━━\u001b[0m\u001b[37m\u001b[0m \u001b[1m1s\u001b[0m 5ms/step - loss: 0.0011 - val_loss: 7.4305e-04\n",
      "Epoch 39/100\n",
      "\u001b[1m59/59\u001b[0m \u001b[32m━━━━━━━━━━━━━━━━━━━━\u001b[0m\u001b[37m\u001b[0m \u001b[1m0s\u001b[0m 2ms/step - loss: 0.0011 - val_loss: 0.0019\n",
      "Epoch 40/100\n",
      "\u001b[1m59/59\u001b[0m \u001b[32m━━━━━━━━━━━━━━━━━━━━\u001b[0m\u001b[37m\u001b[0m \u001b[1m0s\u001b[0m 2ms/step - loss: 0.0014 - val_loss: 8.0403e-04\n",
      "Epoch 41/100\n",
      "\u001b[1m59/59\u001b[0m \u001b[32m━━━━━━━━━━━━━━━━━━━━\u001b[0m\u001b[37m\u001b[0m \u001b[1m0s\u001b[0m 2ms/step - loss: 0.0011 - val_loss: 0.0011\n",
      "Epoch 42/100\n",
      "\u001b[1m59/59\u001b[0m \u001b[32m━━━━━━━━━━━━━━━━━━━━\u001b[0m\u001b[37m\u001b[0m \u001b[1m0s\u001b[0m 2ms/step - loss: 0.0012 - val_loss: 9.2737e-04\n",
      "Epoch 43/100\n",
      "\u001b[1m59/59\u001b[0m \u001b[32m━━━━━━━━━━━━━━━━━━━━\u001b[0m\u001b[37m\u001b[0m \u001b[1m0s\u001b[0m 2ms/step - loss: 0.0011 - val_loss: 7.4798e-04\n",
      "Epoch 44/100\n",
      "\u001b[1m59/59\u001b[0m \u001b[32m━━━━━━━━━━━━━━━━━━━━\u001b[0m\u001b[37m\u001b[0m \u001b[1m0s\u001b[0m 3ms/step - loss: 9.7867e-04 - val_loss: 0.0013\n",
      "Epoch 45/100\n",
      "\u001b[1m59/59\u001b[0m \u001b[32m━━━━━━━━━━━━━━━━━━━━\u001b[0m\u001b[37m\u001b[0m \u001b[1m0s\u001b[0m 3ms/step - loss: 0.0014 - val_loss: 7.1580e-04\n",
      "Epoch 46/100\n",
      "\u001b[1m59/59\u001b[0m \u001b[32m━━━━━━━━━━━━━━━━━━━━\u001b[0m\u001b[37m\u001b[0m \u001b[1m1s\u001b[0m 6ms/step - loss: 0.0011 - val_loss: 8.9517e-04\n",
      "Epoch 47/100\n",
      "\u001b[1m59/59\u001b[0m \u001b[32m━━━━━━━━━━━━━━━━━━━━\u001b[0m\u001b[37m\u001b[0m \u001b[1m1s\u001b[0m 5ms/step - loss: 0.0013 - val_loss: 6.4749e-04\n",
      "Epoch 48/100\n",
      "\u001b[1m59/59\u001b[0m \u001b[32m━━━━━━━━━━━━━━━━━━━━\u001b[0m\u001b[37m\u001b[0m \u001b[1m0s\u001b[0m 5ms/step - loss: 0.0012 - val_loss: 7.2830e-04\n",
      "Epoch 49/100\n",
      "\u001b[1m59/59\u001b[0m \u001b[32m━━━━━━━━━━━━━━━━━━━━\u001b[0m\u001b[37m\u001b[0m \u001b[1m0s\u001b[0m 2ms/step - loss: 0.0011 - val_loss: 8.4864e-04\n",
      "Epoch 50/100\n",
      "\u001b[1m59/59\u001b[0m \u001b[32m━━━━━━━━━━━━━━━━━━━━\u001b[0m\u001b[37m\u001b[0m \u001b[1m0s\u001b[0m 3ms/step - loss: 0.0010 - val_loss: 0.0010\n",
      "Epoch 51/100\n",
      "\u001b[1m59/59\u001b[0m \u001b[32m━━━━━━━━━━━━━━━━━━━━\u001b[0m\u001b[37m\u001b[0m \u001b[1m1s\u001b[0m 9ms/step - loss: 0.0011 - val_loss: 8.3048e-04\n",
      "Epoch 52/100\n",
      "\u001b[1m59/59\u001b[0m \u001b[32m━━━━━━━━━━━━━━━━━━━━\u001b[0m\u001b[37m\u001b[0m \u001b[1m0s\u001b[0m 3ms/step - loss: 0.0012 - val_loss: 0.0028\n",
      "Epoch 53/100\n",
      "\u001b[1m59/59\u001b[0m \u001b[32m━━━━━━━━━━━━━━━━━━━━\u001b[0m\u001b[37m\u001b[0m \u001b[1m0s\u001b[0m 2ms/step - loss: 0.0017 - val_loss: 0.0010\n",
      "Epoch 54/100\n",
      "\u001b[1m59/59\u001b[0m \u001b[32m━━━━━━━━━━━━━━━━━━━━\u001b[0m\u001b[37m\u001b[0m \u001b[1m0s\u001b[0m 4ms/step - loss: 9.5502e-04 - val_loss: 8.7882e-04\n",
      "Epoch 55/100\n",
      "\u001b[1m59/59\u001b[0m \u001b[32m━━━━━━━━━━━━━━━━━━━━\u001b[0m\u001b[37m\u001b[0m \u001b[1m0s\u001b[0m 3ms/step - loss: 9.4554e-04 - val_loss: 8.1172e-04\n",
      "Epoch 56/100\n",
      "\u001b[1m59/59\u001b[0m \u001b[32m━━━━━━━━━━━━━━━━━━━━\u001b[0m\u001b[37m\u001b[0m \u001b[1m0s\u001b[0m 2ms/step - loss: 8.7438e-04 - val_loss: 9.6068e-04\n",
      "Epoch 57/100\n",
      "\u001b[1m59/59\u001b[0m \u001b[32m━━━━━━━━━━━━━━━━━━━━\u001b[0m\u001b[37m\u001b[0m \u001b[1m0s\u001b[0m 3ms/step - loss: 0.0011 - val_loss: 0.0011\n",
      "Epoch 58/100\n",
      "\u001b[1m59/59\u001b[0m \u001b[32m━━━━━━━━━━━━━━━━━━━━\u001b[0m\u001b[37m\u001b[0m \u001b[1m0s\u001b[0m 3ms/step - loss: 9.6642e-04 - val_loss: 7.3218e-04\n",
      "Epoch 59/100\n",
      "\u001b[1m59/59\u001b[0m \u001b[32m━━━━━━━━━━━━━━━━━━━━\u001b[0m\u001b[37m\u001b[0m \u001b[1m0s\u001b[0m 3ms/step - loss: 0.0011 - val_loss: 7.2095e-04\n",
      "Epoch 60/100\n",
      "\u001b[1m59/59\u001b[0m \u001b[32m━━━━━━━━━━━━━━━━━━━━\u001b[0m\u001b[37m\u001b[0m \u001b[1m0s\u001b[0m 2ms/step - loss: 0.0012 - val_loss: 9.9295e-04\n",
      "Epoch 61/100\n",
      "\u001b[1m59/59\u001b[0m \u001b[32m━━━━━━━━━━━━━━━━━━━━\u001b[0m\u001b[37m\u001b[0m \u001b[1m1s\u001b[0m 6ms/step - loss: 0.0013 - val_loss: 8.8064e-04\n",
      "Epoch 62/100\n",
      "\u001b[1m59/59\u001b[0m \u001b[32m━━━━━━━━━━━━━━━━━━━━\u001b[0m\u001b[37m\u001b[0m \u001b[1m1s\u001b[0m 6ms/step - loss: 0.0011 - val_loss: 0.0011\n",
      "Epoch 63/100\n",
      "\u001b[1m59/59\u001b[0m \u001b[32m━━━━━━━━━━━━━━━━━━━━\u001b[0m\u001b[37m\u001b[0m \u001b[1m1s\u001b[0m 3ms/step - loss: 0.0012 - val_loss: 6.7506e-04\n",
      "Epoch 64/100\n",
      "\u001b[1m59/59\u001b[0m \u001b[32m━━━━━━━━━━━━━━━━━━━━\u001b[0m\u001b[37m\u001b[0m \u001b[1m0s\u001b[0m 3ms/step - loss: 0.0011 - val_loss: 7.0530e-04\n",
      "Epoch 65/100\n",
      "\u001b[1m59/59\u001b[0m \u001b[32m━━━━━━━━━━━━━━━━━━━━\u001b[0m\u001b[37m\u001b[0m \u001b[1m0s\u001b[0m 2ms/step - loss: 9.2526e-04 - val_loss: 0.0011\n",
      "Epoch 66/100\n",
      "\u001b[1m59/59\u001b[0m \u001b[32m━━━━━━━━━━━━━━━━━━━━\u001b[0m\u001b[37m\u001b[0m \u001b[1m0s\u001b[0m 3ms/step - loss: 0.0011 - val_loss: 6.9594e-04\n",
      "Epoch 67/100\n",
      "\u001b[1m59/59\u001b[0m \u001b[32m━━━━━━━━━━━━━━━━━━━━\u001b[0m\u001b[37m\u001b[0m \u001b[1m0s\u001b[0m 3ms/step - loss: 0.0017 - val_loss: 8.8292e-04\n",
      "Epoch 68/100\n",
      "\u001b[1m59/59\u001b[0m \u001b[32m━━━━━━━━━━━━━━━━━━━━\u001b[0m\u001b[37m\u001b[0m \u001b[1m0s\u001b[0m 3ms/step - loss: 0.0011 - val_loss: 7.9042e-04\n",
      "Epoch 69/100\n",
      "\u001b[1m59/59\u001b[0m \u001b[32m━━━━━━━━━━━━━━━━━━━━\u001b[0m\u001b[37m\u001b[0m \u001b[1m0s\u001b[0m 3ms/step - loss: 9.4280e-04 - val_loss: 5.4738e-04\n",
      "Epoch 70/100\n",
      "\u001b[1m59/59\u001b[0m \u001b[32m━━━━━━━━━━━━━━━━━━━━\u001b[0m\u001b[37m\u001b[0m \u001b[1m0s\u001b[0m 3ms/step - loss: 0.0010 - val_loss: 9.3597e-04\n",
      "Epoch 71/100\n",
      "\u001b[1m59/59\u001b[0m \u001b[32m━━━━━━━━━━━━━━━━━━━━\u001b[0m\u001b[37m\u001b[0m \u001b[1m0s\u001b[0m 3ms/step - loss: 0.0011 - val_loss: 0.0011\n",
      "Epoch 72/100\n",
      "\u001b[1m59/59\u001b[0m \u001b[32m━━━━━━━━━━━━━━━━━━━━\u001b[0m\u001b[37m\u001b[0m \u001b[1m0s\u001b[0m 3ms/step - loss: 0.0015 - val_loss: 7.5903e-04\n",
      "Epoch 73/100\n",
      "\u001b[1m59/59\u001b[0m \u001b[32m━━━━━━━━━━━━━━━━━━━━\u001b[0m\u001b[37m\u001b[0m \u001b[1m0s\u001b[0m 4ms/step - loss: 0.0010 - val_loss: 0.0011\n",
      "Epoch 74/100\n",
      "\u001b[1m59/59\u001b[0m \u001b[32m━━━━━━━━━━━━━━━━━━━━\u001b[0m\u001b[37m\u001b[0m \u001b[1m0s\u001b[0m 3ms/step - loss: 0.0011 - val_loss: 7.0892e-04\n",
      "Epoch 75/100\n",
      "\u001b[1m59/59\u001b[0m \u001b[32m━━━━━━━━━━━━━━━━━━━━\u001b[0m\u001b[37m\u001b[0m \u001b[1m0s\u001b[0m 3ms/step - loss: 0.0011 - val_loss: 6.8598e-04\n",
      "Epoch 76/100\n",
      "\u001b[1m59/59\u001b[0m \u001b[32m━━━━━━━━━━━━━━━━━━━━\u001b[0m\u001b[37m\u001b[0m \u001b[1m0s\u001b[0m 2ms/step - loss: 0.0010 - val_loss: 7.8537e-04\n",
      "Epoch 77/100\n",
      "\u001b[1m59/59\u001b[0m \u001b[32m━━━━━━━━━━━━━━━━━━━━\u001b[0m\u001b[37m\u001b[0m \u001b[1m0s\u001b[0m 3ms/step - loss: 7.9709e-04 - val_loss: 8.1652e-04\n",
      "Epoch 78/100\n",
      "\u001b[1m59/59\u001b[0m \u001b[32m━━━━━━━━━━━━━━━━━━━━\u001b[0m\u001b[37m\u001b[0m \u001b[1m0s\u001b[0m 4ms/step - loss: 0.0013 - val_loss: 6.9383e-04\n",
      "Epoch 79/100\n",
      "\u001b[1m59/59\u001b[0m \u001b[32m━━━━━━━━━━━━━━━━━━━━\u001b[0m\u001b[37m\u001b[0m \u001b[1m0s\u001b[0m 2ms/step - loss: 0.0011 - val_loss: 0.0010\n",
      "Epoch 80/100\n",
      "\u001b[1m59/59\u001b[0m \u001b[32m━━━━━━━━━━━━━━━━━━━━\u001b[0m\u001b[37m\u001b[0m \u001b[1m0s\u001b[0m 4ms/step - loss: 9.1790e-04 - val_loss: 6.3228e-04\n",
      "Epoch 81/100\n",
      "\u001b[1m59/59\u001b[0m \u001b[32m━━━━━━━━━━━━━━━━━━━━\u001b[0m\u001b[37m\u001b[0m \u001b[1m0s\u001b[0m 5ms/step - loss: 0.0012 - val_loss: 6.7669e-04\n",
      "Epoch 82/100\n",
      "\u001b[1m59/59\u001b[0m \u001b[32m━━━━━━━━━━━━━━━━━━━━\u001b[0m\u001b[37m\u001b[0m \u001b[1m0s\u001b[0m 3ms/step - loss: 0.0011 - val_loss: 7.3207e-04\n",
      "Epoch 83/100\n",
      "\u001b[1m59/59\u001b[0m \u001b[32m━━━━━━━━━━━━━━━━━━━━\u001b[0m\u001b[37m\u001b[0m \u001b[1m0s\u001b[0m 3ms/step - loss: 0.0012 - val_loss: 0.0012\n",
      "Epoch 84/100\n",
      "\u001b[1m59/59\u001b[0m \u001b[32m━━━━━━━━━━━━━━━━━━━━\u001b[0m\u001b[37m\u001b[0m \u001b[1m0s\u001b[0m 3ms/step - loss: 9.8131e-04 - val_loss: 6.2161e-04\n",
      "Epoch 85/100\n",
      "\u001b[1m59/59\u001b[0m \u001b[32m━━━━━━━━━━━━━━━━━━━━\u001b[0m\u001b[37m\u001b[0m \u001b[1m0s\u001b[0m 3ms/step - loss: 9.7232e-04 - val_loss: 0.0010\n",
      "Epoch 86/100\n",
      "\u001b[1m59/59\u001b[0m \u001b[32m━━━━━━━━━━━━━━━━━━━━\u001b[0m\u001b[37m\u001b[0m \u001b[1m0s\u001b[0m 6ms/step - loss: 0.0014 - val_loss: 6.6776e-04\n",
      "Epoch 87/100\n",
      "\u001b[1m59/59\u001b[0m \u001b[32m━━━━━━━━━━━━━━━━━━━━\u001b[0m\u001b[37m\u001b[0m \u001b[1m0s\u001b[0m 6ms/step - loss: 8.6283e-04 - val_loss: 0.0011\n",
      "Epoch 88/100\n",
      "\u001b[1m59/59\u001b[0m \u001b[32m━━━━━━━━━━━━━━━━━━━━\u001b[0m\u001b[37m\u001b[0m \u001b[1m0s\u001b[0m 4ms/step - loss: 0.0010 - val_loss: 7.7406e-04\n",
      "Epoch 89/100\n",
      "\u001b[1m59/59\u001b[0m \u001b[32m━━━━━━━━━━━━━━━━━━━━\u001b[0m\u001b[37m\u001b[0m \u001b[1m0s\u001b[0m 5ms/step - loss: 0.0012 - val_loss: 5.6122e-04\n",
      "Epoch 90/100\n",
      "\u001b[1m59/59\u001b[0m \u001b[32m━━━━━━━━━━━━━━━━━━━━\u001b[0m\u001b[37m\u001b[0m \u001b[1m0s\u001b[0m 4ms/step - loss: 0.0012 - val_loss: 0.0024\n",
      "Epoch 91/100\n",
      "\u001b[1m59/59\u001b[0m \u001b[32m━━━━━━━━━━━━━━━━━━━━\u001b[0m\u001b[37m\u001b[0m \u001b[1m0s\u001b[0m 4ms/step - loss: 0.0012 - val_loss: 8.0869e-04\n",
      "Epoch 92/100\n",
      "\u001b[1m59/59\u001b[0m \u001b[32m━━━━━━━━━━━━━━━━━━━━\u001b[0m\u001b[37m\u001b[0m \u001b[1m0s\u001b[0m 5ms/step - loss: 0.0011 - val_loss: 6.1750e-04\n",
      "Epoch 93/100\n",
      "\u001b[1m59/59\u001b[0m \u001b[32m━━━━━━━━━━━━━━━━━━━━\u001b[0m\u001b[37m\u001b[0m \u001b[1m0s\u001b[0m 3ms/step - loss: 9.3887e-04 - val_loss: 5.2505e-04\n",
      "Epoch 94/100\n",
      "\u001b[1m59/59\u001b[0m \u001b[32m━━━━━━━━━━━━━━━━━━━━\u001b[0m\u001b[37m\u001b[0m \u001b[1m0s\u001b[0m 3ms/step - loss: 8.8073e-04 - val_loss: 9.7237e-04\n",
      "Epoch 95/100\n",
      "\u001b[1m59/59\u001b[0m \u001b[32m━━━━━━━━━━━━━━━━━━━━\u001b[0m\u001b[37m\u001b[0m \u001b[1m0s\u001b[0m 3ms/step - loss: 0.0011 - val_loss: 7.9707e-04\n",
      "Epoch 96/100\n",
      "\u001b[1m59/59\u001b[0m \u001b[32m━━━━━━━━━━━━━━━━━━━━\u001b[0m\u001b[37m\u001b[0m \u001b[1m0s\u001b[0m 4ms/step - loss: 0.0010 - val_loss: 7.0433e-04\n",
      "Epoch 97/100\n",
      "\u001b[1m59/59\u001b[0m \u001b[32m━━━━━━━━━━━━━━━━━━━━\u001b[0m\u001b[37m\u001b[0m \u001b[1m0s\u001b[0m 5ms/step - loss: 9.0015e-04 - val_loss: 6.0521e-04\n",
      "Epoch 98/100\n",
      "\u001b[1m59/59\u001b[0m \u001b[32m━━━━━━━━━━━━━━━━━━━━\u001b[0m\u001b[37m\u001b[0m \u001b[1m0s\u001b[0m 4ms/step - loss: 0.0010 - val_loss: 0.0010\n",
      "Epoch 99/100\n",
      "\u001b[1m59/59\u001b[0m \u001b[32m━━━━━━━━━━━━━━━━━━━━\u001b[0m\u001b[37m\u001b[0m \u001b[1m0s\u001b[0m 3ms/step - loss: 0.0010 - val_loss: 5.1855e-04\n",
      "Epoch 100/100\n",
      "\u001b[1m59/59\u001b[0m \u001b[32m━━━━━━━━━━━━━━━━━━━━\u001b[0m\u001b[37m\u001b[0m \u001b[1m0s\u001b[0m 3ms/step - loss: 8.9319e-04 - val_loss: 0.0018\n"
     ]
    }
   ],
   "source": [
    "# Huấn luyện mô hình\n",
    "history = model.fit(X_train, y_train_scaled, epochs=100, batch_size=10, validation_data=(X_test, y_test_scaled), verbose=1)\n"
   ]
  },
  {
   "cell_type": "code",
   "execution_count": 29,
   "metadata": {},
   "outputs": [
    {
     "name": "stdout",
     "output_type": "stream",
     "text": [
      "Test Loss: 0.001816947478801012\n"
     ]
    }
   ],
   "source": [
    "# Đánh giá mô hình trên tập kiểm tra\n",
    "loss = model.evaluate(X_test, y_test_scaled, verbose=0)\n",
    "print(f\"Test Loss: {loss}\")"
   ]
  },
  {
   "cell_type": "code",
   "execution_count": 30,
   "metadata": {},
   "outputs": [
    {
     "name": "stdout",
     "output_type": "stream",
     "text": [
      "\u001b[1m5/5\u001b[0m \u001b[32m━━━━━━━━━━━━━━━━━━━━\u001b[0m\u001b[37m\u001b[0m \u001b[1m0s\u001b[0m 29ms/step\n"
     ]
    }
   ],
   "source": [
    "# Dự đoán trên tập kiểm tra và chuyển kết quả về giá trị thực\n",
    "predictions_scaled = model.predict(X_test)\n",
    "predictions = scaler_y.inverse_transform(predictions_scaled)  # Chuyển đổi dự đoán về thang đo ban đầu\n"
   ]
  },
  {
   "cell_type": "code",
   "execution_count": 31,
   "metadata": {},
   "outputs": [
    {
     "name": "stdout",
     "output_type": "stream",
     "text": [
      "Actual Price: 19500000000, Predicted Price: 19844921344.0\n",
      "Actual Price: 8700000000, Predicted Price: 8289252864.0\n",
      "Actual Price: 4600000000, Predicted Price: 4152434688.0\n",
      "Actual Price: 8700000000, Predicted Price: 8289252864.0\n",
      "Actual Price: 3200000000, Predicted Price: 3532000000.0\n"
     ]
    }
   ],
   "source": [
    "# In kết quả một số dự đoán\n",
    "for i in range(min(5, len(y_test))):  # In tối đa 5 dự đoán hoặc ít hơn nếu y_test nhỏ hơn 5\n",
    "    print(f\"Actual Price: {y_test[i][0] if y_test.ndim > 1 else y_test[i]}, Predicted Price: {predictions[i][0]}\")\n"
   ]
  },
  {
   "cell_type": "code",
   "execution_count": 32,
   "metadata": {},
   "outputs": [],
   "source": [
    "model.save('house_price_model.keras')"
   ]
  }
 ],
 "metadata": {
  "colab": {
   "provenance": []
  },
  "kernelspec": {
   "display_name": "Python 3",
   "name": "python3"
  },
  "language_info": {
   "codemirror_mode": {
    "name": "ipython",
    "version": 3
   },
   "file_extension": ".py",
   "mimetype": "text/x-python",
   "name": "python",
   "nbconvert_exporter": "python",
   "pygments_lexer": "ipython3",
   "version": "3.10.1"
  }
 },
 "nbformat": 4,
 "nbformat_minor": 0
}
